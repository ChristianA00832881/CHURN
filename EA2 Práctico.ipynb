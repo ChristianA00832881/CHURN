{
 "cells": [
  {
   "cell_type": "markdown",
   "metadata": {},
   "source": [
    "# Examen Argumentativo 2: Práctico\n",
    "## Uso de Geometría y Topología para Ciencia de Datos\n",
    "### Christian Jaffé Alarcón Acosta A00832881"
   ]
  },
  {
   "cell_type": "code",
   "execution_count": 1,
   "metadata": {},
   "outputs": [],
   "source": [
    "import pandas as pd\n",
    "import numpy as np\n",
    "import matplotlib.pyplot as plt\n",
    "import kmapper as km\n",
    "import sklearn\n",
    "from IPython.display import display, HTML\n",
    "from sklearn.manifold import Isomap\n",
    "from sklearn.pipeline import Pipeline\n",
    "from sklearn.preprocessing import StandardScaler\n",
    "import warnings\n",
    "import seaborn as sns\n",
    "import umap\n",
    "import umap.plot"
   ]
  },
  {
   "cell_type": "markdown",
   "metadata": {},
   "source": [
    "Lo que corresponde hacer ahora es buscar grupos de vinos que compartan características e identificar si realmente hay una relación entre estas caracteríticas con el tipo de vino y así poder determinar su calidad.\n",
    " \n",
    "Para atacar esta problemática se realizarán inicialmente procesos de ML y  posteriormente con TDA para analizar los resultados obtenidos y validar las diferencias entre ellos para así encontrar nuevos hallazgos."
   ]
  },
  {
   "cell_type": "markdown",
   "metadata": {},
   "source": [
    "## Exploratory Data Analysis"
   ]
  },
  {
   "cell_type": "markdown",
   "metadata": {},
   "source": [
    "Inicialmente se sabe que la base de datos está compuesta de características de tres diferentes tipos de vinos, sin embargo, estos no se encuentran clasificados dentro de la base de datos."
   ]
  },
  {
   "cell_type": "code",
   "execution_count": 2,
   "metadata": {},
   "outputs": [
    {
     "name": "stdout",
     "output_type": "stream",
     "text": [
      "Dimensión:  (178, 13)\n"
     ]
    },
    {
     "data": {
      "text/html": [
       "<div>\n",
       "<style scoped>\n",
       "    .dataframe tbody tr th:only-of-type {\n",
       "        vertical-align: middle;\n",
       "    }\n",
       "\n",
       "    .dataframe tbody tr th {\n",
       "        vertical-align: top;\n",
       "    }\n",
       "\n",
       "    .dataframe thead th {\n",
       "        text-align: right;\n",
       "    }\n",
       "</style>\n",
       "<table border=\"1\" class=\"dataframe\">\n",
       "  <thead>\n",
       "    <tr style=\"text-align: right;\">\n",
       "      <th></th>\n",
       "      <th>Alcohol</th>\n",
       "      <th>Malic_Acid</th>\n",
       "      <th>Ash</th>\n",
       "      <th>Ash_Alcanity</th>\n",
       "      <th>Magnesium</th>\n",
       "      <th>Total_Phenols</th>\n",
       "      <th>Flavanoids</th>\n",
       "      <th>Nonflavanoid_Phenols</th>\n",
       "      <th>Proanthocyanins</th>\n",
       "      <th>Color_Intensity</th>\n",
       "      <th>Hue</th>\n",
       "      <th>OD280</th>\n",
       "      <th>Proline</th>\n",
       "    </tr>\n",
       "  </thead>\n",
       "  <tbody>\n",
       "    <tr>\n",
       "      <th>0</th>\n",
       "      <td>14.23</td>\n",
       "      <td>1.71</td>\n",
       "      <td>2.43</td>\n",
       "      <td>15.6</td>\n",
       "      <td>127</td>\n",
       "      <td>2.80</td>\n",
       "      <td>3.06</td>\n",
       "      <td>0.28</td>\n",
       "      <td>2.29</td>\n",
       "      <td>5.64</td>\n",
       "      <td>1.04</td>\n",
       "      <td>3.92</td>\n",
       "      <td>1065</td>\n",
       "    </tr>\n",
       "    <tr>\n",
       "      <th>1</th>\n",
       "      <td>13.20</td>\n",
       "      <td>1.78</td>\n",
       "      <td>2.14</td>\n",
       "      <td>11.2</td>\n",
       "      <td>100</td>\n",
       "      <td>2.65</td>\n",
       "      <td>2.76</td>\n",
       "      <td>0.26</td>\n",
       "      <td>1.28</td>\n",
       "      <td>4.38</td>\n",
       "      <td>1.05</td>\n",
       "      <td>3.40</td>\n",
       "      <td>1050</td>\n",
       "    </tr>\n",
       "    <tr>\n",
       "      <th>2</th>\n",
       "      <td>13.16</td>\n",
       "      <td>2.36</td>\n",
       "      <td>2.67</td>\n",
       "      <td>18.6</td>\n",
       "      <td>101</td>\n",
       "      <td>2.80</td>\n",
       "      <td>3.24</td>\n",
       "      <td>0.30</td>\n",
       "      <td>2.81</td>\n",
       "      <td>5.68</td>\n",
       "      <td>1.03</td>\n",
       "      <td>3.17</td>\n",
       "      <td>1185</td>\n",
       "    </tr>\n",
       "    <tr>\n",
       "      <th>3</th>\n",
       "      <td>14.37</td>\n",
       "      <td>1.95</td>\n",
       "      <td>2.50</td>\n",
       "      <td>16.8</td>\n",
       "      <td>113</td>\n",
       "      <td>3.85</td>\n",
       "      <td>3.49</td>\n",
       "      <td>0.24</td>\n",
       "      <td>2.18</td>\n",
       "      <td>7.80</td>\n",
       "      <td>0.86</td>\n",
       "      <td>3.45</td>\n",
       "      <td>1480</td>\n",
       "    </tr>\n",
       "    <tr>\n",
       "      <th>4</th>\n",
       "      <td>13.24</td>\n",
       "      <td>2.59</td>\n",
       "      <td>2.87</td>\n",
       "      <td>21.0</td>\n",
       "      <td>118</td>\n",
       "      <td>2.80</td>\n",
       "      <td>2.69</td>\n",
       "      <td>0.39</td>\n",
       "      <td>1.82</td>\n",
       "      <td>4.32</td>\n",
       "      <td>1.04</td>\n",
       "      <td>2.93</td>\n",
       "      <td>735</td>\n",
       "    </tr>\n",
       "  </tbody>\n",
       "</table>\n",
       "</div>"
      ],
      "text/plain": [
       "   Alcohol  Malic_Acid   Ash  Ash_Alcanity  Magnesium  Total_Phenols  \\\n",
       "0    14.23        1.71  2.43          15.6        127           2.80   \n",
       "1    13.20        1.78  2.14          11.2        100           2.65   \n",
       "2    13.16        2.36  2.67          18.6        101           2.80   \n",
       "3    14.37        1.95  2.50          16.8        113           3.85   \n",
       "4    13.24        2.59  2.87          21.0        118           2.80   \n",
       "\n",
       "   Flavanoids  Nonflavanoid_Phenols  Proanthocyanins  Color_Intensity   Hue  \\\n",
       "0        3.06                  0.28             2.29             5.64  1.04   \n",
       "1        2.76                  0.26             1.28             4.38  1.05   \n",
       "2        3.24                  0.30             2.81             5.68  1.03   \n",
       "3        3.49                  0.24             2.18             7.80  0.86   \n",
       "4        2.69                  0.39             1.82             4.32  1.04   \n",
       "\n",
       "   OD280  Proline  \n",
       "0   3.92     1065  \n",
       "1   3.40     1050  \n",
       "2   3.17     1185  \n",
       "3   3.45     1480  \n",
       "4   2.93      735  "
      ]
     },
     "execution_count": 2,
     "metadata": {},
     "output_type": "execute_result"
    }
   ],
   "source": [
    "data = pd.read_csv('wine-clustering.csv') #Se lee la base de datos y se despliega la dimensión y las primeras 5 filas\n",
    "print('Dimensión: ', data.shape)\n",
    "data.head(5)"
   ]
  },
  {
   "cell_type": "markdown",
   "metadata": {},
   "source": [
    "Se puede observar que el dataset tiene una dimensión de 178 filas y 13 columnas, que nos representan 13 características distintas 178 tipos de vinos"
   ]
  },
  {
   "cell_type": "code",
   "execution_count": 3,
   "metadata": {},
   "outputs": [
    {
     "name": "stdout",
     "output_type": "stream",
     "text": [
      "Valores faltantes: 0\n",
      "\n",
      "Valores duplicados: 0, (0.0%)\n",
      "\n",
      "Tipos de  datos: [dtype('float64') dtype('int64')]\n"
     ]
    }
   ],
   "source": [
    "print(f'Valores faltantes: {data.isna().sum().sum()}')\n",
    "print('')\n",
    "print(f'Valores duplicados: {data.duplicated().sum()}, ({np.round(100*data.duplicated().sum()/len(data),1)}%)')\n",
    "print('')\n",
    "print(f'Tipos de  datos: {data.dtypes.unique()}')"
   ]
  },
  {
   "cell_type": "markdown",
   "metadata": {},
   "source": [
    "### Detección de Outliers"
   ]
  },
  {
   "cell_type": "code",
   "execution_count": 4,
   "metadata": {},
   "outputs": [
    {
     "data": {
      "image/png": "[encoded data removed]",
      "text/plain": [
       "<Figure size 2000x2000 with 13 Axes>"
      ]
     },
     "metadata": {},
     "output_type": "display_data"
    }
   ],
   "source": [
    "#Características del dataframe\n",
    "num_columns = len(data.columns)\n",
    "nrows = (num_columns // 4) + (1 if num_columns % 4 > 0 else 0)  # Calcula cuántas filas necesitas\n",
    "ncols = 4\n",
    "\n",
    "#Se crea el subplot\n",
    "fig, axes = plt.subplots(nrows=nrows, ncols=ncols, figsize=(20, nrows * 5))\n",
    "fig.suptitle('Outliers in each variable', size=20)\n",
    "\n",
    "\n",
    "for i, col in enumerate(data.columns):\n",
    "    ax = axes[i // ncols, i % ncols]  # Determina la posición del subplot\n",
    "    sns.boxplot(ax=ax, data=data[col], palette='Spectral').set_title(col)\n",
    "\n",
    "\n",
    "# Oculta los axes que no se usen\n",
    "for j in range(i + 1, nrows * ncols):\n",
    "    fig.delaxes(axes[j // ncols, j % ncols])\n",
    "\n",
    "plt.tight_layout()\n",
    "plt.show()\n"
   ]
  },
  {
   "cell_type": "markdown",
   "metadata": {},
   "source": [
    "Al hacer una detección de outliers, se puede observar que variables como 'Malic_Acid', 'Ash', 'Ash_alcalinity', 'Magnesium', 'Proanthocyanins', 'Color_intensity' y'Hue' presentan outliers de acuerdo al IQR, por lo que por este mismo método procederemos a eliminarlos."
   ]
  },
  {
   "cell_type": "code",
   "execution_count": 5,
   "metadata": {},
   "outputs": [
    {
     "data": {
      "text/plain": [
       "(161, 13)"
      ]
     },
     "execution_count": 5,
     "metadata": {},
     "output_type": "execute_result"
    }
   ],
   "source": [
    "#Función para identificar y eliminar outliers\n",
    "def remove_outliers(df):\n",
    "    for column in df.select_dtypes(include=['float64', 'int64']).columns:\n",
    "        Q1 = df[column].quantile(0.25)\n",
    "        Q3 = df[column].quantile(0.75)\n",
    "        IQR = Q3 - Q1\n",
    "        lower_bound = Q1 - 1.5 * IQR\n",
    "        upper_bound = Q3 + 1.5 * IQR\n",
    "        \n",
    "        # Solo conservar las filas que no son outliers\n",
    "        df = df[(df[column] >= lower_bound) & (df[column] <= upper_bound)]\n",
    "    return df\n",
    "\n",
    "data_clean = remove_outliers(data)\n",
    "data_clean.shape"
   ]
  },
  {
   "cell_type": "markdown",
   "metadata": {},
   "source": [
    "Se puede observar que no hubo una pérdida significativa de datos al eliminar los outliers, por lo que se usará el dataset sin outliers."
   ]
  },
  {
   "cell_type": "markdown",
   "metadata": {},
   "source": [
    "# Método: PCA y K-Means"
   ]
  },
  {
   "cell_type": "markdown",
   "metadata": {},
   "source": [
    "En este caso como queremos utilizar todo las variables del dataframe para realizar la clusterización, inicialmente se hará un PCA para reeducir dimensionalidad uy posteriormente se aplicará K-Means."
   ]
  },
  {
   "cell_type": "markdown",
   "metadata": {},
   "source": [
    "### Normalización de la data"
   ]
  },
  {
   "cell_type": "code",
   "execution_count": 6,
   "metadata": {},
   "outputs": [],
   "source": [
    "data_kmeans = data_clean #Nombramos un df para utilizar con PCA y kmeans\n",
    "#Normalizamos la data\n",
    "scaler = StandardScaler()\n",
    "data_normalized_pca=pd.DataFrame(scaler.fit_transform(data_kmeans), columns=data_clean.columns) "
   ]
  },
  {
   "cell_type": "markdown",
   "metadata": {},
   "source": [
    "### Número óptimo de clusters"
   ]
  },
  {
   "cell_type": "code",
   "execution_count": 7,
   "metadata": {},
   "outputs": [
    {
     "data": {
      "image/png": "[encoded data removed]",
      "text/plain": [
       "<Figure size 800x550 with 2 Axes>"
      ]
     },
     "metadata": {},
     "output_type": "display_data"
    },
    {
     "data": {
      "text/plain": [
       "<AxesSubplot: title={'center': 'Distortion Score Elbow for KMeans Clustering'}, xlabel='k', ylabel='distortion score'>"
      ]
     },
     "execution_count": 7,
     "metadata": {},
     "output_type": "execute_result"
    }
   ],
   "source": [
    "#Número óptimo de clusters\n",
    "from yellowbrick.cluster import KElbowVisualizer\n",
    "from sklearn.cluster import KMeans\n",
    "warnings.filterwarnings('ignore')\n",
    "\n",
    "model = KMeans()\n",
    "visualizer = KElbowVisualizer(model, k=(2,10), timings= True)\n",
    "visualizer.fit(data_normalized_pca)\n",
    "visualizer.show()"
   ]
  },
  {
   "cell_type": "markdown",
   "metadata": {},
   "source": [
    "Apoyándonos con kmeans, que es un método que requiere que le indiques el número de clusters, se puede observar que recomienda un número de 3 clusters, que coincide con la información de nuestro dataset, correspondiente a 3 tipos de vinos"
   ]
  },
  {
   "cell_type": "code",
   "execution_count": 8,
   "metadata": {},
   "outputs": [],
   "source": [
    "from sklearn.decomposition import PCA\n",
    "\n",
    "# Aplicar PCA para reducir a 2 y 3 dimensiones para visualización\n",
    "pca_2d = PCA(n_components=2)\n",
    "pca_3d = PCA(n_components=3)\n",
    "\n",
    "data_2d = pca_2d.fit_transform(data_normalized_pca)\n",
    "data_3d = pca_3d.fit_transform(data_normalized_pca)\n"
   ]
  },
  {
   "cell_type": "code",
   "execution_count": 9,
   "metadata": {},
   "outputs": [],
   "source": [
    "from sklearn.cluster import KMeans\n",
    "\n",
    "# Definir el número de clusters\n",
    "k = 3  # o usa el método del codo para encontrar el número óptimo\n",
    "\n",
    "# Aplicar K-Means\n",
    "kmeans = KMeans(n_clusters=k, random_state=42)\n",
    "clusters = kmeans.fit_predict(data_normalized_pca)\n",
    "\n",
    "# Agregar las etiquetas de cluster al DataFrame original y a los componentes PCA\n",
    "data_kmeans['Cluster'] = clusters\n"
   ]
  },
  {
   "cell_type": "code",
   "execution_count": 10,
   "metadata": {},
   "outputs": [
    {
     "data": {
      "text/html": [
       "<div>\n",
       "<style scoped>\n",
       "    .dataframe tbody tr th:only-of-type {\n",
       "        vertical-align: middle;\n",
       "    }\n",
       "\n",
       "    .dataframe tbody tr th {\n",
       "        vertical-align: top;\n",
       "    }\n",
       "\n",
       "    .dataframe thead th {\n",
       "        text-align: right;\n",
       "    }\n",
       "</style>\n",
       "<table border=\"1\" class=\"dataframe\">\n",
       "  <thead>\n",
       "    <tr style=\"text-align: right;\">\n",
       "      <th></th>\n",
       "      <th>Alcohol</th>\n",
       "      <th>Malic_Acid</th>\n",
       "      <th>Ash</th>\n",
       "      <th>Ash_Alcanity</th>\n",
       "      <th>Magnesium</th>\n",
       "      <th>Total_Phenols</th>\n",
       "      <th>Flavanoids</th>\n",
       "      <th>Nonflavanoid_Phenols</th>\n",
       "      <th>Proanthocyanins</th>\n",
       "      <th>Color_Intensity</th>\n",
       "      <th>Hue</th>\n",
       "      <th>OD280</th>\n",
       "      <th>Proline</th>\n",
       "      <th>Cluster</th>\n",
       "    </tr>\n",
       "  </thead>\n",
       "  <tbody>\n",
       "    <tr>\n",
       "      <th>0</th>\n",
       "      <td>14.23</td>\n",
       "      <td>1.71</td>\n",
       "      <td>2.43</td>\n",
       "      <td>15.6</td>\n",
       "      <td>127</td>\n",
       "      <td>2.80</td>\n",
       "      <td>3.06</td>\n",
       "      <td>0.28</td>\n",
       "      <td>2.29</td>\n",
       "      <td>5.64</td>\n",
       "      <td>1.04</td>\n",
       "      <td>3.92</td>\n",
       "      <td>1065</td>\n",
       "      <td>2</td>\n",
       "    </tr>\n",
       "    <tr>\n",
       "      <th>1</th>\n",
       "      <td>13.20</td>\n",
       "      <td>1.78</td>\n",
       "      <td>2.14</td>\n",
       "      <td>11.2</td>\n",
       "      <td>100</td>\n",
       "      <td>2.65</td>\n",
       "      <td>2.76</td>\n",
       "      <td>0.26</td>\n",
       "      <td>1.28</td>\n",
       "      <td>4.38</td>\n",
       "      <td>1.05</td>\n",
       "      <td>3.40</td>\n",
       "      <td>1050</td>\n",
       "      <td>2</td>\n",
       "    </tr>\n",
       "    <tr>\n",
       "      <th>2</th>\n",
       "      <td>13.16</td>\n",
       "      <td>2.36</td>\n",
       "      <td>2.67</td>\n",
       "      <td>18.6</td>\n",
       "      <td>101</td>\n",
       "      <td>2.80</td>\n",
       "      <td>3.24</td>\n",
       "      <td>0.30</td>\n",
       "      <td>2.81</td>\n",
       "      <td>5.68</td>\n",
       "      <td>1.03</td>\n",
       "      <td>3.17</td>\n",
       "      <td>1185</td>\n",
       "      <td>2</td>\n",
       "    </tr>\n",
       "    <tr>\n",
       "      <th>3</th>\n",
       "      <td>14.37</td>\n",
       "      <td>1.95</td>\n",
       "      <td>2.50</td>\n",
       "      <td>16.8</td>\n",
       "      <td>113</td>\n",
       "      <td>3.85</td>\n",
       "      <td>3.49</td>\n",
       "      <td>0.24</td>\n",
       "      <td>2.18</td>\n",
       "      <td>7.80</td>\n",
       "      <td>0.86</td>\n",
       "      <td>3.45</td>\n",
       "      <td>1480</td>\n",
       "      <td>2</td>\n",
       "    </tr>\n",
       "    <tr>\n",
       "      <th>4</th>\n",
       "      <td>13.24</td>\n",
       "      <td>2.59</td>\n",
       "      <td>2.87</td>\n",
       "      <td>21.0</td>\n",
       "      <td>118</td>\n",
       "      <td>2.80</td>\n",
       "      <td>2.69</td>\n",
       "      <td>0.39</td>\n",
       "      <td>1.82</td>\n",
       "      <td>4.32</td>\n",
       "      <td>1.04</td>\n",
       "      <td>2.93</td>\n",
       "      <td>735</td>\n",
       "      <td>2</td>\n",
       "    </tr>\n",
       "  </tbody>\n",
       "</table>\n",
       "</div>"
      ],
      "text/plain": [
       "   Alcohol  Malic_Acid   Ash  Ash_Alcanity  Magnesium  Total_Phenols  \\\n",
       "0    14.23        1.71  2.43          15.6        127           2.80   \n",
       "1    13.20        1.78  2.14          11.2        100           2.65   \n",
       "2    13.16        2.36  2.67          18.6        101           2.80   \n",
       "3    14.37        1.95  2.50          16.8        113           3.85   \n",
       "4    13.24        2.59  2.87          21.0        118           2.80   \n",
       "\n",
       "   Flavanoids  Nonflavanoid_Phenols  Proanthocyanins  Color_Intensity   Hue  \\\n",
       "0        3.06                  0.28             2.29             5.64  1.04   \n",
       "1        2.76                  0.26             1.28             4.38  1.05   \n",
       "2        3.24                  0.30             2.81             5.68  1.03   \n",
       "3        3.49                  0.24             2.18             7.80  0.86   \n",
       "4        2.69                  0.39             1.82             4.32  1.04   \n",
       "\n",
       "   OD280  Proline  Cluster  \n",
       "0   3.92     1065        2  \n",
       "1   3.40     1050        2  \n",
       "2   3.17     1185        2  \n",
       "3   3.45     1480        2  \n",
       "4   2.93      735        2  "
      ]
     },
     "execution_count": 10,
     "metadata": {},
     "output_type": "execute_result"
    }
   ],
   "source": [
    "data_kmeans.head()"
   ]
  },
  {
   "cell_type": "code",
   "execution_count": 11,
   "metadata": {},
   "outputs": [
    {
     "data": {
      "image/png": "[encoded data removed]",
      "text/plain": [
       "<Figure size 1000x600 with 2 Axes>"
      ]
     },
     "metadata": {},
     "output_type": "display_data"
    }
   ],
   "source": [
    "import matplotlib.pyplot as plt\n",
    "\n",
    "plt.figure(figsize=(10, 6))\n",
    "plt.scatter(data_2d[:, 0], data_2d[:, 1], c=clusters, cmap='viridis', marker='o', edgecolor='k')\n",
    "plt.title('Visualización de Clusters en 2D usando PCA')\n",
    "plt.xlabel('Componente Principal 1')\n",
    "plt.ylabel('Componente Principal 2')\n",
    "plt.colorbar(label='Cluster')\n",
    "plt.show()\n"
   ]
  },
  {
   "cell_type": "code",
   "execution_count": 12,
   "metadata": {},
   "outputs": [
    {
     "data": {
      "application/vnd.plotly.v1+json": {
       "config": {
        "plotlyServerURL": "https://plot.ly"
       },
       "data": [
        {
         "hovertemplate": "PC 1=%{x}<br>PC 2=%{y}<br>PC 3=%{z}<br>size=%{marker.size}<br>color=%{marker.color}<extra></extra>",
         "legendgroup": "",
         "marker": {
          "color": [
           2,
           2,
           2,
           2,
           2,
           2,
           2,
           2,
           2,
           2,
           2,
           2,
           2,
           2,
           2,
           2,
           2,
           2,
           2,
           2,
           2,
           2,
           2,
           2,
           2,
           2,
           2,
           2,
           2,
           2,
           2,
           2,
           2,
           2,
           2,
           2,
           2,
           2,
           2,
           2,
           2,
           2,
           2,
           2,
           2,
           2,
           2,
           2,
           2,
           2,
           2,
           2,
           2,
           2,
           2,
           2,
           2,
           0,
           1,
           0,
           0,
           0,
           0,
           0,
           0,
           0,
           0,
           0,
           0,
           0,
           0,
           0,
           0,
           0,
           0,
           0,
           0,
           1,
           0,
           0,
           0,
           0,
           0,
           0,
           0,
           0,
           0,
           0,
           0,
           0,
           0,
           0,
           0,
           0,
           0,
           0,
           0,
           0,
           0,
           0,
           0,
           0,
           0,
           0,
           0,
           0,
           0,
           0,
           0,
           1,
           0,
           0,
           0,
           0,
           0,
           0,
           0,
           0,
           1,
           1,
           1,
           1,
           1,
           1,
           1,
           1,
           1,
           1,
           1,
           1,
           1,
           1,
           1,
           1,
           1,
           1,
           1,
           1,
           1,
           1,
           1,
           1,
           1,
           1,
           1,
           1,
           1,
           1,
           1,
           1,
           1,
           1,
           1,
           1,
           1,
           1,
           1,
           1,
           1,
           1,
           1
          ],
          "coloraxis": "coloraxis",
          "opacity": 1,
          "size": [
           0.1,
           0.1,
           0.1,
           0.1,
           0.1,
           0.1,
           0.1,
           0.1,
           0.1,
           0.1,
           0.1,
           0.1,
           0.1,
           0.1,
           0.1,
           0.1,
           0.1,
           0.1,
           0.1,
           0.1,
           0.1,
           0.1,
           0.1,
           0.1,
           0.1,
           0.1,
           0.1,
           0.1,
           0.1,
           0.1,
           0.1,
           0.1,
           0.1,
           0.1,
           0.1,
           0.1,
           0.1,
           0.1,
           0.1,
           0.1,
           0.1,
           0.1,
           0.1,
           0.1,
           0.1,
           0.1,
           0.1,
           0.1,
           0.1,
           0.1,
           0.1,
           0.1,
           0.1,
           0.1,
           0.1,
           0.1,
           0.1,
           0.1,
           0.1,
           0.1,
           0.1,
           0.1,
           0.1,
           0.1,
           0.1,
           0.1,
           0.1,
           0.1,
           0.1,
           0.1,
           0.1,
           0.1,
           0.1,
           0.1,
           0.1,
           0.1,
           0.1,
           0.1,
           0.1,
           0.1,
           0.1,
           0.1,
           0.1,
           0.1,
           0.1,
           0.1,
           0.1,
           0.1,
           0.1,
           0.1,
           0.1,
           0.1,
           0.1,
           0.1,
           0.1,
           0.1,
           0.1,
           0.1,
           0.1,
           0.1,
           0.1,
           0.1,
           0.1,
           0.1,
           0.1,
           0.1,
           0.1,
           0.1,
           0.1,
           0.1,
           0.1,
           0.1,
           0.1,
           0.1,
           0.1,
           0.1,
           0.1,
           0.1,
           0.1,
           0.1,
           0.1,
           0.1,
           0.1,
           0.1,
           0.1,
           0.1,
           0.1,
           0.1,
           0.1,
           0.1,
           0.1,
           0.1,
           0.1,
           0.1,
           0.1,
           0.1,
           0.1,
           0.1,
           0.1,
           0.1,
           0.1,
           0.1,
           0.1,
           0.1,
           0.1,
           0.1,
           0.1,
           0.1,
           0.1,
           0.1,
           0.1,
           0.1,
           0.1,
           0.1,
           0.1,
           0.1,
           0.1,
           0.1,
           0.1,
           0.1,
           0.1
          ],
          "sizemode": "area",
          "sizeref": 0.00025,
          "symbol": "circle"
         },
         "mode": "markers",
         "name": "",
         "scene": "scene",
         "showlegend": false,
         "type": "scatter3d",
         "x": [
          -3.50352797428429,
          -2.342641895707748,
          -2.661348989708022,
          -3.9253006211881956,
          -1.0328314196358022,
          -3.2387743888309664,
          -2.6281659600234404,
          -2.1116020484579594,
          -2.7299196640986554,
          -2.88925137791986,
          -3.621308133458813,
          -1.8592418491300953,
          -2.2431557714818453,
          -3.8160818989638323,
          -2.411611290615029,
          -2.2843001075660276,
          -1.977365595812202,
          -3.7170785989689614,
          -2.2112124577638883,
          -3.283674565062562,
          -1.1300886959418746,
          -2.6066697206166367,
          -1.6528043721136885,
          -1.7672174195226151,
          -1.8517064805058947,
          -1.2590024737563401,
          -2.258529681191059,
          -2.3784077738509466,
          -2.56765561734363,
          -2.756965396281883,
          -1.7376730554649307,
          -1.9408187466711675,
          -1.4538366922548112,
          -1.924485617131075,
          -1.4953206239670003,
          -1.1603204939446239,
          -1.5621564717077354,
          -2.743807588446312,
          -2.7488020302832017,
          -0.658208918901334,
          -3.212012338205962,
          -0.5001202454629893,
          -2.1740760578795606,
          -1.1501057941371973,
          -2.880147191283763,
          -2.9691006340263906,
          -2.1538171862520867,
          -2.8613881704387474,
          -3.4857433764650496,
          -3.0154115479251353,
          -3.689502924840599,
          -2.338727774377417,
          -2.246314517366221,
          -2.559292214112602,
          -2.897876024390124,
          -2.274955199883599,
          -3.2893107041507093,
          1.5777422194527297,
          1.8503869059536178,
          -0.008862919543482568,
          -2.06484040366812,
          0.6450851189224935,
          -0.984678285365628,
          -2.385470745444061,
          -0.08723626042443366,
          0.8365664067884393,
          1.6260920260859877,
          -1.6205745415679078,
          0.8496290309032868,
          -1.744504020491679,
          0.8823290714957822,
          -0.42936118824606445,
          1.540261934717942,
          -0.3012504774260653,
          -0.7042150280571942,
          -1.0443642343728405,
          0.6383099471307957,
          2.5925732022382832,
          -0.8887118095025438,
          -0.786419244208711,
          0.9021033581993038,
          0.7646382326628847,
          1.2413034564801046,
          0.7283696918461734,
          1.3619544409955358,
          1.6453664979227085,
          1.9629690554426946,
          -0.755362440012976,
          -0.9081368238418247,
          0.6112030389734717,
          -1.0773217874239,
          -2.279462373388356,
          -1.5021099555391464,
          -0.7519346161371302,
          0.5936707672850614,
          0.26474236159118797,
          0.7564080830868547,
          -0.29784015276856807,
          1.890290214613563,
          0.40164829949965863,
          1.690136723494441,
          -0.07104028223577587,
          -1.5911724213606655,
          0.3859804186796858,
          1.368821833937785,
          0.5434867145629159,
          0.6463088915417079,
          0.37680789682830346,
          0.2044688904894765,
          2.459747262301472,
          0.6149078259680137,
          -0.6666342863578025,
          1.3495292041470883,
          -0.9734735106073171,
          0.21488658215805376,
          0.012387878267480048,
          0.5939159297574219,
          1.9316030710031364,
          1.3202964522150427,
          2.4270626303617573,
          3.0616814733987825,
          2.235306502288016,
          2.3592563612967536,
          3.0907147052716226,
          4.0355183587366525,
          3.134049547869835,
          2.527231572563854,
          2.8697214384504908,
          2.36433926824589,
          3.1148301341419553,
          2.419433161143397,
          2.237070591741974,
          2.6909685565779693,
          4.333279595012489,
          3.6726460963676226,
          2.831813513999273,
          2.916418711548469,
          2.3452233801698736,
          1.8653715224348268,
          2.6591514602267066,
          2.750261835510666,
          3.63808788976105,
          2.8231616771873775,
          3.573437925885564,
          3.2221530784598595,
          2.2621307053193758,
          2.9373622504612498,
          2.620733226197884,
          2.9692274639853733,
          3.5886141971302807,
          2.3970851427253983,
          2.9416618396357386,
          2.205964753331285,
          2.4659630670207506,
          3.2917380615890717,
          3.7172684471222373,
          2.405825834423552,
          2.6428601015970097,
          2.6560308884384445,
          2.354087003330739,
          3.2340792791635846
         ],
         "y": [
          -1.6094455056453303,
          0.33116436805713856,
          -0.9361826860601858,
          -2.7108273872671154,
          -1.0743956861800423,
          -2.1280582614813275,
          -1.0581831178398313,
          -1.8221252828480177,
          -0.7652622523201366,
          -0.654370797517543,
          -1.1847415081299377,
          -0.5076204026129882,
          -0.49688348533263915,
          -0.8735847913462068,
          -1.7920940701579928,
          -2.4544891714412675,
          -1.70626265435897,
          -2.4631764580539373,
          -1.2742959221223216,
          -0.9466703385617787,
          -0.3302651864799451,
          0.1609886892331258,
          0.5788615827500755,
          0.4098440752206182,
          -0.5834372451075364,
          0.19814035610069258,
          -0.7128165669075736,
          -0.04476428044176432,
          -1.0919003339706856,
          -1.4072626371577275,
          -0.028089586915836746,
          -1.9272990674803907,
          -0.8013053742983104,
          -0.0763889519828545,
          -0.8344484712922126,
          -0.1040691025788392,
          0.8190925975752503,
          -2.128947267202918,
          -0.8326334059134749,
          -0.05738837731355162,
          -1.093944933182588,
          -0.40214648031551525,
          0.11983791193043654,
          -1.9103157955117964,
          -1.1131425728011046,
          -0.4996725770196088,
          -1.1594039108577323,
          -1.7074949455026491,
          0.043346962231154834,
          -0.5956133350397469,
          -1.6019191454491406,
          -1.9931856170572886,
          -1.145917948170015,
          -1.3613936073537065,
          -1.502848755263391,
          -1.2063608659917153,
          -1.6815465397470877,
          1.219956687299225,
          0.7116704878617778,
          1.317115096555763,
          2.174263897063994,
          1.7256543567484688,
          0.7889025358038441,
          2.296543737371108,
          2.674867303033245,
          0.039405386118213696,
          0.7720412861298579,
          1.213361214033091,
          1.204760102247788,
          1.3746893312194248,
          2.3447339438199233,
          2.325447930614596,
          1.0853481220318189,
          1.0320591952349782,
          3.5557418671032828,
          1.6331189676472786,
          2.6065029773921338,
          0.15504341673361008,
          1.5526242130207295,
          2.0379404456257775,
          2.3112990547565313,
          2.4568224998121853,
          1.9074657491413167,
          3.0174787905516824,
          2.24182233063466,
          1.9350532152664592,
          1.7375478248764251,
          2.4223939030939543,
          2.194897664565216,
          -0.1583145159912999,
          2.7596234713189496,
          1.7217353738132875,
          2.3632669517398166,
          2.4267695803294567,
          2.401699254342892,
          1.1532284939338973,
          2.8465301264461855,
          2.3182080241027854,
          1.7897570303981623,
          2.369342216298256,
          1.5095577287037751,
          2.4780111165918344,
          1.594650420901426,
          2.048417258669738,
          0.5248324419447497,
          2.3709004535932583,
          2.1005497564931566,
          2.997125593362978,
          1.8681025435977203,
          1.297919401361353,
          2.3340017406051743,
          1.4722837109311535,
          0.5641765580628931,
          1.6870774446094834,
          2.2961837716495412,
          1.5019977749104254,
          2.1448012843732287,
          1.245384515021095,
          -0.5520951361684039,
          -0.6410813344150051,
          -0.410589395149177,
          -0.6421000494757815,
          0.526517116175711,
          -0.4552411273873038,
          -0.33157529294535876,
          -0.39657753364002873,
          -0.44510340427325107,
          -0.45634259915012965,
          -0.42164077957586343,
          -0.67085153212978,
          -0.5948496818639447,
          -1.5206120437653845,
          -0.7032129241714781,
          -0.7228937651075003,
          -1.3742045486102683,
          -1.6283014625953565,
          -2.3998808200931356,
          -2.785791545903955,
          -1.785652033331692,
          -2.251337463007267,
          -0.5240933559795717,
          -1.913640137926927,
          -1.9840768237254625,
          -1.405118131882655,
          -0.7995487570750406,
          -1.4504487261566743,
          -0.8168635952369712,
          -0.9833459635466755,
          -1.608041297272048,
          -0.9440394133161765,
          -2.9016978103548112,
          -1.378864899621097,
          -2.253060762675405,
          -2.952146533570594,
          0.039869359354797525,
          -0.9300701269358348,
          -2.242186854400675,
          -1.9326602292667943,
          -3.1796932657146715,
          -2.646938673732596,
          -2.890993579417717
         ],
         "z": [
          0.03941198072991273,
          -1.978330754841683,
          1.1265332947128994,
          -0.14629630132312116,
          2.4458407593557907,
          -0.5436520044894294,
          -0.8012396229994004,
          0.6262168837523722,
          -1.7977674314776702,
          -1.055483296220316,
          -0.26109254323615744,
          -0.9196010479789128,
          -0.7220762987872223,
          -1.3533896846207096,
          0.6130826579779358,
          1.222965676909137,
          0.986209110753322,
          -0.4231555226806044,
          0.17810196141893522,
          -0.2592840347015942,
          1.2383730916271123,
          -0.12041552595177177,
          0.4606671091515538,
          1.22702207002167,
          0.09660536045612221,
          -1.2351925984410161,
          1.782514060483276,
          -1.0413761566512771,
          1.6889182045570827,
          -0.17053638762487236,
          -0.027519729224041667,
          1.5924637359886993,
          0.9734457085940502,
          0.5674043588526526,
          0.9434653686456982,
          0.3357732853852927,
          -1.3121161246190558,
          -0.09058554960766747,
          -0.24201156962140316,
          -0.8352164738872675,
          -0.10647976174968196,
          -0.24025599101674192,
          -0.8159857265601677,
          0.21709951410689557,
          -0.5632717369431386,
          -1.3249611670399601,
          -0.017485639134462626,
          -0.7940003567753967,
          -2.2200316776190743,
          0.3213654641102284,
          -0.6022004506059395,
          0.653837342390749,
          -0.8000402213242471,
          0.7301727838848568,
          -0.5847790305791142,
          0.5140610026776566,
          -0.1692844363284827,
          -0.7200319700095319,
          -1.7951830069743457,
          -1.722649661301245,
          -0.13200893361980126,
          1.0845402448229855,
          0.7405835313588095,
          -2.6188874090728893,
          -1.2544339417320274,
          -0.4563464556064952,
          -0.33221085223489083,
          2.3179886025037963,
          0.2397088166861272,
          0.7162980691864442,
          -1.5718575884037367,
          -2.666990586297711,
          -0.03404030914572433,
          1.832406736724322,
          -0.40228579396382264,
          -0.33066419014800785,
          1.6398948558773545,
          0.2430254471209402,
          0.8371870106460921,
          -0.041487178424081575,
          0.9662630450706262,
          2.6993828367430814,
          1.0519575053667147,
          0.8764052391804847,
          -0.04580274499880148,
          0.848865282333557,
          -0.19572422552537616,
          0.14782235698111848,
          0.31395515108111055,
          2.2530629516161764,
          -1.227535030791212,
          -0.5028230776719129,
          0.5326390886361769,
          -1.6911148751026026,
          -1.460639667256965,
          1.124876224578352,
          -0.9784456280539613,
          -0.5768356441881857,
          0.6941293877004949,
          -0.6076659184062342,
          0.23861841961370428,
          -0.7741200581048616,
          1.989321979520717,
          0.10509197274153248,
          2.397279166340544,
          1.183288428257027,
          1.3560493983344797,
          -0.3503451631940945,
          0.8429734956214241,
          -2.130800068619074,
          -0.466101674348414,
          1.0879870534907161,
          3.290532068133607,
          1.2911488477605857,
          0.2321289169313548,
          0.38705019250213535,
          1.239062890756939,
          0.7652515699898634,
          -0.6645326696936099,
          -0.36683572363351025,
          0.1349779899068965,
          -0.03761420184504541,
          -1.2973972790074326,
          -1.34830263382704,
          0.44627197727150647,
          -1.1740797769384164,
          1.4753618074816528,
          0.9209248458657241,
          -0.7866381785751618,
          1.3775348165791055,
          -0.1730172811981868,
          -1.1787572267973883,
          -0.7754639227040584,
          -1.4231137040666275,
          -0.19393695257410704,
          -0.6186937930988256,
          -0.4970538042450287,
          0.8124772735446928,
          1.7531221773740402,
          -1.4395582924047086,
          -1.4372116185727628,
          -0.39238010774286447,
          -1.0483907620490773,
          1.6122245912161177,
          -0.34286245884929867,
          0.198911282179967,
          0.9730167369464143,
          -0.6787770602200768,
          -1.0884782529841093,
          -0.5668039358792274,
          0.5173837440564124,
          -1.3831493586064265,
          1.0161319832450537,
          1.85697008483284,
          -0.731905544238029,
          -1.6045332726193728,
          -0.9901730432846461,
          0.3104548146798131,
          -1.0262586909202558,
          -0.6064446464889705,
          0.9804190049883387
         ]
        }
       ],
       "layout": {
        "coloraxis": {
         "colorbar": {
          "title": {
           "text": "color"
          }
         },
         "colorscale": [
          [
           0,
           "#0d0887"
          ],
          [
           0.1111111111111111,
           "#46039f"
          ],
          [
           0.2222222222222222,
           "#7201a8"
          ],
          [
           0.3333333333333333,
           "#9c179e"
          ],
          [
           0.4444444444444444,
           "#bd3786"
          ],
          [
           0.5555555555555556,
           "#d8576b"
          ],
          [
           0.6666666666666666,
           "#ed7953"
          ],
          [
           0.7777777777777778,
           "#fb9f3a"
          ],
          [
           0.8888888888888888,
           "#fdca26"
          ],
          [
           1,
           "#f0f921"
          ]
         ]
        },
        "height": 500,
        "legend": {
         "itemsizing": "constant",
         "tracegroupgap": 0
        },
        "scene": {
         "domain": {
          "x": [
           0,
           1
          ],
          "y": [
           0,
           1
          ]
         },
         "xaxis": {
          "title": {
           "text": "PC 1"
          }
         },
         "yaxis": {
          "title": {
           "text": "PC 2"
          }
         },
         "zaxis": {
          "title": {
           "text": "PC 3"
          }
         }
        },
        "template": {
         "data": {
          "bar": [
           {
            "error_x": {
             "color": "#2a3f5f"
            },
            "error_y": {
             "color": "#2a3f5f"
            },
            "marker": {
             "line": {
              "color": "#E5ECF6",
              "width": 0.5
             },
             "pattern": {
              "fillmode": "overlay",
              "size": 10,
              "solidity": 0.2
             }
            },
            "type": "bar"
           }
          ],
          "barpolar": [
           {
            "marker": {
             "line": {
              "color": "#E5ECF6",
              "width": 0.5
             },
             "pattern": {
              "fillmode": "overlay",
              "size": 10,
              "solidity": 0.2
             }
            },
            "type": "barpolar"
           }
          ],
          "carpet": [
           {
            "aaxis": {
             "endlinecolor": "#2a3f5f",
             "gridcolor": "white",
             "linecolor": "white",
             "minorgridcolor": "white",
             "startlinecolor": "#2a3f5f"
            },
            "baxis": {
             "endlinecolor": "#2a3f5f",
             "gridcolor": "white",
             "linecolor": "white",
             "minorgridcolor": "white",
             "startlinecolor": "#2a3f5f"
            },
            "type": "carpet"
           }
          ],
          "choropleth": [
           {
            "colorbar": {
             "outlinewidth": 0,
             "ticks": ""
            },
            "type": "choropleth"
           }
          ],
          "contour": [
           {
            "colorbar": {
             "outlinewidth": 0,
             "ticks": ""
            },
            "colorscale": [
             [
              0,
              "#0d0887"
             ],
             [
              0.1111111111111111,
              "#46039f"
             ],
             [
              0.2222222222222222,
              "#7201a8"
             ],
             [
              0.3333333333333333,
              "#9c179e"
             ],
             [
              0.4444444444444444,
              "#bd3786"
             ],
             [
              0.5555555555555556,
              "#d8576b"
             ],
             [
              0.6666666666666666,
              "#ed7953"
             ],
             [
              0.7777777777777778,
              "#fb9f3a"
             ],
             [
              0.8888888888888888,
              "#fdca26"
             ],
             [
              1,
              "#f0f921"
             ]
            ],
            "type": "contour"
           }
          ],
          "contourcarpet": [
           {
            "colorbar": {
             "outlinewidth": 0,
             "ticks": ""
            },
            "type": "contourcarpet"
           }
          ],
          "heatmap": [
           {
            "colorbar": {
             "outlinewidth": 0,
             "ticks": ""
            },
            "colorscale": [
             [
              0,
              "#0d0887"
             ],
             [
              0.1111111111111111,
              "#46039f"
             ],
             [
              0.2222222222222222,
              "#7201a8"
             ],
             [
              0.3333333333333333,
              "#9c179e"
             ],
             [
              0.4444444444444444,
              "#bd3786"
             ],
             [
              0.5555555555555556,
              "#d8576b"
             ],
             [
              0.6666666666666666,
              "#ed7953"
             ],
             [
              0.7777777777777778,
              "#fb9f3a"
             ],
             [
              0.8888888888888888,
              "#fdca26"
             ],
             [
              1,
              "#f0f921"
             ]
            ],
            "type": "heatmap"
           }
          ],
          "heatmapgl": [
           {
            "colorbar": {
             "outlinewidth": 0,
             "ticks": ""
            },
            "colorscale": [
             [
              0,
              "#0d0887"
             ],
             [
              0.1111111111111111,
              "#46039f"
             ],
             [
              0.2222222222222222,
              "#7201a8"
             ],
             [
              0.3333333333333333,
              "#9c179e"
             ],
             [
              0.4444444444444444,
              "#bd3786"
             ],
             [
              0.5555555555555556,
              "#d8576b"
             ],
             [
              0.6666666666666666,
              "#ed7953"
             ],
             [
              0.7777777777777778,
              "#fb9f3a"
             ],
             [
              0.8888888888888888,
              "#fdca26"
             ],
             [
              1,
              "#f0f921"
             ]
            ],
            "type": "heatmapgl"
           }
          ],
          "histogram": [
           {
            "marker": {
             "pattern": {
              "fillmode": "overlay",
              "size": 10,
              "solidity": 0.2
             }
            },
            "type": "histogram"
           }
          ],
          "histogram2d": [
           {
            "colorbar": {
             "outlinewidth": 0,
             "ticks": ""
            },
            "colorscale": [
             [
              0,
              "#0d0887"
             ],
             [
              0.1111111111111111,
              "#46039f"
             ],
             [
              0.2222222222222222,
              "#7201a8"
             ],
             [
              0.3333333333333333,
              "#9c179e"
             ],
             [
              0.4444444444444444,
              "#bd3786"
             ],
             [
              0.5555555555555556,
              "#d8576b"
             ],
             [
              0.6666666666666666,
              "#ed7953"
             ],
             [
              0.7777777777777778,
              "#fb9f3a"
             ],
             [
              0.8888888888888888,
              "#fdca26"
             ],
             [
              1,
              "#f0f921"
             ]
            ],
            "type": "histogram2d"
           }
          ],
          "histogram2dcontour": [
           {
            "colorbar": {
             "outlinewidth": 0,
             "ticks": ""
            },
            "colorscale": [
             [
              0,
              "#0d0887"
             ],
             [
              0.1111111111111111,
              "#46039f"
             ],
             [
              0.2222222222222222,
              "#7201a8"
             ],
             [
              0.3333333333333333,
              "#9c179e"
             ],
             [
              0.4444444444444444,
              "#bd3786"
             ],
             [
              0.5555555555555556,
              "#d8576b"
             ],
             [
              0.6666666666666666,
              "#ed7953"
             ],
             [
              0.7777777777777778,
              "#fb9f3a"
             ],
             [
              0.8888888888888888,
              "#fdca26"
             ],
             [
              1,
              "#f0f921"
             ]
            ],
            "type": "histogram2dcontour"
           }
          ],
          "mesh3d": [
           {
            "colorbar": {
             "outlinewidth": 0,
             "ticks": ""
            },
            "type": "mesh3d"
           }
          ],
          "parcoords": [
           {
            "line": {
             "colorbar": {
              "outlinewidth": 0,
              "ticks": ""
             }
            },
            "type": "parcoords"
           }
          ],
          "pie": [
           {
            "automargin": true,
            "type": "pie"
           }
          ],
          "scatter": [
           {
            "fillpattern": {
             "fillmode": "overlay",
             "size": 10,
             "solidity": 0.2
            },
            "type": "scatter"
           }
          ],
          "scatter3d": [
           {
            "line": {
             "colorbar": {
              "outlinewidth": 0,
              "ticks": ""
             }
            },
            "marker": {
             "colorbar": {
              "outlinewidth": 0,
              "ticks": ""
             }
            },
            "type": "scatter3d"
           }
          ],
          "scattercarpet": [
           {
            "marker": {
             "colorbar": {
              "outlinewidth": 0,
              "ticks": ""
             }
            },
            "type": "scattercarpet"
           }
          ],
          "scattergeo": [
           {
            "marker": {
             "colorbar": {
              "outlinewidth": 0,
              "ticks": ""
             }
            },
            "type": "scattergeo"
           }
          ],
          "scattergl": [
           {
            "marker": {
             "colorbar": {
              "outlinewidth": 0,
              "ticks": ""
             }
            },
            "type": "scattergl"
           }
          ],
          "scattermapbox": [
           {
            "marker": {
             "colorbar": {
              "outlinewidth": 0,
              "ticks": ""
             }
            },
            "type": "scattermapbox"
           }
          ],
          "scatterpolar": [
           {
            "marker": {
             "colorbar": {
              "outlinewidth": 0,
              "ticks": ""
             }
            },
            "type": "scatterpolar"
           }
          ],
          "scatterpolargl": [
           {
            "marker": {
             "colorbar": {
              "outlinewidth": 0,
              "ticks": ""
             }
            },
            "type": "scatterpolargl"
           }
          ],
          "scatterternary": [
           {
            "marker": {
             "colorbar": {
              "outlinewidth": 0,
              "ticks": ""
             }
            },
            "type": "scatterternary"
           }
          ],
          "surface": [
           {
            "colorbar": {
             "outlinewidth": 0,
             "ticks": ""
            },
            "colorscale": [
             [
              0,
              "#0d0887"
             ],
             [
              0.1111111111111111,
              "#46039f"
             ],
             [
              0.2222222222222222,
              "#7201a8"
             ],
             [
              0.3333333333333333,
              "#9c179e"
             ],
             [
              0.4444444444444444,
              "#bd3786"
             ],
             [
              0.5555555555555556,
              "#d8576b"
             ],
             [
              0.6666666666666666,
              "#ed7953"
             ],
             [
              0.7777777777777778,
              "#fb9f3a"
             ],
             [
              0.8888888888888888,
              "#fdca26"
             ],
             [
              1,
              "#f0f921"
             ]
            ],
            "type": "surface"
           }
          ],
          "table": [
           {
            "cells": {
             "fill": {
              "color": "#EBF0F8"
             },
             "line": {
              "color": "white"
             }
            },
            "header": {
             "fill": {
              "color": "#C8D4E3"
             },
             "line": {
              "color": "white"
             }
            },
            "type": "table"
           }
          ]
         },
         "layout": {
          "annotationdefaults": {
           "arrowcolor": "#2a3f5f",
           "arrowhead": 0,
           "arrowwidth": 1
          },
          "autotypenumbers": "strict",
          "coloraxis": {
           "colorbar": {
            "outlinewidth": 0,
            "ticks": ""
           }
          },
          "colorscale": {
           "diverging": [
            [
             0,
             "#8e0152"
            ],
            [
             0.1,
             "#c51b7d"
            ],
            [
             0.2,
             "#de77ae"
            ],
            [
             0.3,
             "#f1b6da"
            ],
            [
             0.4,
             "#fde0ef"
            ],
            [
             0.5,
             "#f7f7f7"
            ],
            [
             0.6,
             "#e6f5d0"
            ],
            [
             0.7,
             "#b8e186"
            ],
            [
             0.8,
             "#7fbc41"
            ],
            [
             0.9,
             "#4d9221"
            ],
            [
             1,
             "#276419"
            ]
           ],
           "sequential": [
            [
             0,
             "#0d0887"
            ],
            [
             0.1111111111111111,
             "#46039f"
            ],
            [
             0.2222222222222222,
             "#7201a8"
            ],
            [
             0.3333333333333333,
             "#9c179e"
            ],
            [
             0.4444444444444444,
             "#bd3786"
            ],
            [
             0.5555555555555556,
             "#d8576b"
            ],
            [
             0.6666666666666666,
             "#ed7953"
            ],
            [
             0.7777777777777778,
             "#fb9f3a"
            ],
            [
             0.8888888888888888,
             "#fdca26"
            ],
            [
             1,
             "#f0f921"
            ]
           ],
           "sequentialminus": [
            [
             0,
             "#0d0887"
            ],
            [
             0.1111111111111111,
             "#46039f"
            ],
            [
             0.2222222222222222,
             "#7201a8"
            ],
            [
             0.3333333333333333,
             "#9c179e"
            ],
            [
             0.4444444444444444,
             "#bd3786"
            ],
            [
             0.5555555555555556,
             "#d8576b"
            ],
            [
             0.6666666666666666,
             "#ed7953"
            ],
            [
             0.7777777777777778,
             "#fb9f3a"
            ],
            [
             0.8888888888888888,
             "#fdca26"
            ],
            [
             1,
             "#f0f921"
            ]
           ]
          },
          "colorway": [
           "#636efa",
           "#EF553B",
           "#00cc96",
           "#ab63fa",
           "#FFA15A",
           "#19d3f3",
           "#FF6692",
           "#B6E880",
           "#FF97FF",
           "#FECB52"
          ],
          "font": {
           "color": "#2a3f5f"
          },
          "geo": {
           "bgcolor": "white",
           "lakecolor": "white",
           "landcolor": "#E5ECF6",
           "showlakes": true,
           "showland": true,
           "subunitcolor": "white"
          },
          "hoverlabel": {
           "align": "left"
          },
          "hovermode": "closest",
          "mapbox": {
           "style": "light"
          },
          "paper_bgcolor": "white",
          "plot_bgcolor": "#E5ECF6",
          "polar": {
           "angularaxis": {
            "gridcolor": "white",
            "linecolor": "white",
            "ticks": ""
           },
           "bgcolor": "#E5ECF6",
           "radialaxis": {
            "gridcolor": "white",
            "linecolor": "white",
            "ticks": ""
           }
          },
          "scene": {
           "xaxis": {
            "backgroundcolor": "#E5ECF6",
            "gridcolor": "white",
            "gridwidth": 2,
            "linecolor": "white",
            "showbackground": true,
            "ticks": "",
            "zerolinecolor": "white"
           },
           "yaxis": {
            "backgroundcolor": "#E5ECF6",
            "gridcolor": "white",
            "gridwidth": 2,
            "linecolor": "white",
            "showbackground": true,
            "ticks": "",
            "zerolinecolor": "white"
           },
           "zaxis": {
            "backgroundcolor": "#E5ECF6",
            "gridcolor": "white",
            "gridwidth": 2,
            "linecolor": "white",
            "showbackground": true,
            "ticks": "",
            "zerolinecolor": "white"
           }
          },
          "shapedefaults": {
           "line": {
            "color": "#2a3f5f"
           }
          },
          "ternary": {
           "aaxis": {
            "gridcolor": "white",
            "linecolor": "white",
            "ticks": ""
           },
           "baxis": {
            "gridcolor": "white",
            "linecolor": "white",
            "ticks": ""
           },
           "bgcolor": "#E5ECF6",
           "caxis": {
            "gridcolor": "white",
            "linecolor": "white",
            "ticks": ""
           }
          },
          "title": {
           "x": 0.05
          },
          "xaxis": {
           "automargin": true,
           "gridcolor": "white",
           "linecolor": "white",
           "ticks": "",
           "title": {
            "standoff": 15
           },
           "zerolinecolor": "white",
           "zerolinewidth": 2
          },
          "yaxis": {
           "automargin": true,
           "gridcolor": "white",
           "linecolor": "white",
           "ticks": "",
           "title": {
            "standoff": 15
           },
           "zerolinecolor": "white",
           "zerolinewidth": 2
          }
         }
        },
        "title": {
         "text": "PCA plot in 3D"
        },
        "width": 650
       }
      }
     },
     "metadata": {},
     "output_type": "display_data"
    }
   ],
   "source": [
    "import plotly.express as px\n",
    "# PCA\n",
    "pca = PCA(n_components=3)\n",
    "components = pca.fit_transform(data_normalized_pca)\n",
    "\n",
    "# 3D scatterplot\n",
    "fig = px.scatter_3d(\n",
    "    components, x=0, y=1, z=2, color=clusters, size=0.1*np.ones(len(data_normalized_pca)), opacity = 1,\n",
    "    title='PCA plot in 3D',\n",
    "    labels={'0': 'PC 1', '1': 'PC 2', '2': 'PC 3'},\n",
    "    width=650, height=500\n",
    ")\n",
    "fig.show()"
   ]
  },
  {
   "cell_type": "code",
   "execution_count": 13,
   "metadata": {},
   "outputs": [
    {
     "data": {
      "image/png": "[encoded data removed]",
      "text/plain": [
       "<Figure size 1000x500 with 1 Axes>"
      ]
     },
     "metadata": {},
     "output_type": "display_data"
    }
   ],
   "source": [
    "# PCA\n",
    "pca_var = PCA()\n",
    "pca_var.fit(data_normalized_pca)\n",
    "\n",
    "# Plot\n",
    "plt.figure(figsize=(10,5))\n",
    "xi = np.arange(1, 1+data_normalized_pca.shape[1], step=1)\n",
    "yi = np.cumsum(pca_var.explained_variance_ratio_)\n",
    "plt.plot(xi, yi, marker='o', linestyle='--', color='b')\n",
    "\n",
    "# Aesthetics\n",
    "plt.ylim(0.0,1.1)\n",
    "plt.xlabel('Number of Components')\n",
    "plt.xticks(np.arange(1, 1+data_normalized_pca.shape[1], step=1))\n",
    "plt.ylabel('Cumulative variance (%)')\n",
    "plt.title('Explained variance by each component')\n",
    "plt.axhline(y=1, color='r', linestyle='-')\n",
    "plt.gca().xaxis.grid(False)"
   ]
  },
  {
   "cell_type": "markdown",
   "metadata": {},
   "source": [
    "# UMAP"
   ]
  },
  {
   "cell_type": "code",
   "execution_count": 30,
   "metadata": {},
   "outputs": [],
   "source": [
    "data_umap = data_clean\n",
    "data_normalized_umap=pd.DataFrame(scaler.fit_transform(data_umap), columns=data_clean.columns) "
   ]
  },
  {
   "cell_type": "code",
   "execution_count": 15,
   "metadata": {},
   "outputs": [],
   "source": [
    "from umap.umap_ import UMAP"
   ]
  },
  {
   "cell_type": "code",
   "execution_count": 31,
   "metadata": {},
   "outputs": [
    {
     "name": "stdout",
     "output_type": "stream",
     "text": [
      "(161, 2)\n"
     ]
    },
    {
     "data": {
      "text/html": [
       "<div>\n",
       "<style scoped>\n",
       "    .dataframe tbody tr th:only-of-type {\n",
       "        vertical-align: middle;\n",
       "    }\n",
       "\n",
       "    .dataframe tbody tr th {\n",
       "        vertical-align: top;\n",
       "    }\n",
       "\n",
       "    .dataframe thead th {\n",
       "        text-align: right;\n",
       "    }\n",
       "</style>\n",
       "<table border=\"1\" class=\"dataframe\">\n",
       "  <thead>\n",
       "    <tr style=\"text-align: right;\">\n",
       "      <th></th>\n",
       "      <th>umap comp. 1</th>\n",
       "      <th>umap comp. 2</th>\n",
       "    </tr>\n",
       "  </thead>\n",
       "  <tbody>\n",
       "    <tr>\n",
       "      <th>0</th>\n",
       "      <td>-17.631901</td>\n",
       "      <td>1.405449</td>\n",
       "    </tr>\n",
       "    <tr>\n",
       "      <th>1</th>\n",
       "      <td>-16.409733</td>\n",
       "      <td>1.084886</td>\n",
       "    </tr>\n",
       "    <tr>\n",
       "      <th>2</th>\n",
       "      <td>-16.175547</td>\n",
       "      <td>2.277853</td>\n",
       "    </tr>\n",
       "    <tr>\n",
       "      <th>3</th>\n",
       "      <td>-17.358095</td>\n",
       "      <td>2.439374</td>\n",
       "    </tr>\n",
       "    <tr>\n",
       "      <th>4</th>\n",
       "      <td>-15.291955</td>\n",
       "      <td>1.871605</td>\n",
       "    </tr>\n",
       "  </tbody>\n",
       "</table>\n",
       "</div>"
      ],
      "text/plain": [
       "   umap comp. 1  umap comp. 2\n",
       "0    -17.631901      1.405449\n",
       "1    -16.409733      1.084886\n",
       "2    -16.175547      2.277853\n",
       "3    -17.358095      2.439374\n",
       "4    -15.291955      1.871605"
      ]
     },
     "execution_count": 31,
     "metadata": {},
     "output_type": "execute_result"
    }
   ],
   "source": [
    "# UMAP\n",
    "um = umap.UMAP()\n",
    "X_fit = um.fit(data_normalized_umap)           # we'll use X_fit later\n",
    "X_umap = um.transform(data_normalized_umap)\n",
    "\n",
    "# Convert to data frame\n",
    "umap_df = pd.DataFrame(data = X_umap, columns = ['umap comp. 1', 'umap comp. 2'])\n",
    "\n",
    "# Shape and preview\n",
    "print(umap_df.shape)\n",
    "umap_df.head()"
   ]
  },
  {
   "cell_type": "code",
   "execution_count": 32,
   "metadata": {},
   "outputs": [
    {
     "data": {
      "text/plain": [
       "Text(0, 0.5, 'umap component 2')"
      ]
     },
     "execution_count": 32,
     "metadata": {},
     "output_type": "execute_result"
    },
    {
     "data": {
      "image/png": "[encoded data removed]",
      "text/plain": [
       "<Figure size 800x600 with 1 Axes>"
      ]
     },
     "metadata": {},
     "output_type": "display_data"
    }
   ],
   "source": [
    "# Figure size\n",
    "plt.figure(figsize=(8,6))\n",
    "\n",
    "# Scatterplot\n",
    "plt.scatter(umap_df.iloc[:,0], umap_df.iloc[:,1], c=clusters, cmap=\"brg\", s=40)\n",
    "\n",
    "## Centroids\n",
    "#centroids_umap = um.transform(centroids)\n",
    "#plt.scatter(x=centroids_umap[:,0], y=centroids_umap[:,1], marker=\"x\", s=500, linewidths=3, color=\"black\")\n",
    "\n",
    "# Aesthetics\n",
    "plt.title('UMAP plot in 2D')\n",
    "plt.xlabel('umap component 1')\n",
    "plt.ylabel('umap component 2')"
   ]
  },
  {
   "cell_type": "code",
   "execution_count": 22,
   "metadata": {},
   "outputs": [
    {
     "data": {
      "application/vnd.plotly.v1+json": {
       "config": {
        "plotlyServerURL": "https://plot.ly"
       },
       "data": [
        {
         "hovertemplate": "comp. 1=%{x}<br>comp. 2=%{y}<br>comp. 3=%{z}<br>size=%{marker.size}<br>color=%{marker.color}<extra></extra>",
         "legendgroup": "",
         "marker": {
          "color": [
           2,
           2,
           2,
           2,
           2,
           2,
           2,
           2,
           2,
           2,
           2,
           2,
           2,
           2,
           2,
           2,
           2,
           2,
           2,
           2,
           2,
           2,
           2,
           2,
           2,
           2,
           2,
           2,
           2,
           2,
           2,
           2,
           2,
           2,
           2,
           2,
           2,
           2,
           2,
           2,
           2,
           2,
           2,
           2,
           2,
           2,
           2,
           2,
           2,
           2,
           2,
           2,
           2,
           2,
           2,
           2,
           2,
           0,
           1,
           0,
           0,
           0,
           0,
           0,
           0,
           0,
           0,
           0,
           0,
           0,
           0,
           0,
           0,
           0,
           0,
           0,
           0,
           1,
           0,
           0,
           0,
           0,
           0,
           0,
           0,
           0,
           0,
           0,
           0,
           0,
           0,
           0,
           0,
           0,
           0,
           0,
           0,
           0,
           0,
           0,
           0,
           0,
           0,
           0,
           0,
           0,
           0,
           0,
           0,
           1,
           0,
           0,
           0,
           0,
           0,
           0,
           0,
           0,
           1,
           1,
           1,
           1,
           1,
           1,
           1,
           1,
           1,
           1,
           1,
           1,
           1,
           1,
           1,
           1,
           1,
           1,
           1,
           1,
           1,
           1,
           1,
           1,
           1,
           1,
           1,
           1,
           1,
           1,
           1,
           1,
           1,
           1,
           1,
           1,
           1,
           1,
           1,
           1,
           1,
           1,
           1
          ],
          "coloraxis": "coloraxis",
          "opacity": 1,
          "size": [
           0.1,
           0.1,
           0.1,
           0.1,
           0.1,
           0.1,
           0.1,
           0.1,
           0.1,
           0.1,
           0.1,
           0.1,
           0.1,
           0.1,
           0.1,
           0.1,
           0.1,
           0.1,
           0.1,
           0.1,
           0.1,
           0.1,
           0.1,
           0.1,
           0.1,
           0.1,
           0.1,
           0.1,
           0.1,
           0.1,
           0.1,
           0.1,
           0.1,
           0.1,
           0.1,
           0.1,
           0.1,
           0.1,
           0.1,
           0.1,
           0.1,
           0.1,
           0.1,
           0.1,
           0.1,
           0.1,
           0.1,
           0.1,
           0.1,
           0.1,
           0.1,
           0.1,
           0.1,
           0.1,
           0.1,
           0.1,
           0.1,
           0.1,
           0.1,
           0.1,
           0.1,
           0.1,
           0.1,
           0.1,
           0.1,
           0.1,
           0.1,
           0.1,
           0.1,
           0.1,
           0.1,
           0.1,
           0.1,
           0.1,
           0.1,
           0.1,
           0.1,
           0.1,
           0.1,
           0.1,
           0.1,
           0.1,
           0.1,
           0.1,
           0.1,
           0.1,
           0.1,
           0.1,
           0.1,
           0.1,
           0.1,
           0.1,
           0.1,
           0.1,
           0.1,
           0.1,
           0.1,
           0.1,
           0.1,
           0.1,
           0.1,
           0.1,
           0.1,
           0.1,
           0.1,
           0.1,
           0.1,
           0.1,
           0.1,
           0.1,
           0.1,
           0.1,
           0.1,
           0.1,
           0.1,
           0.1,
           0.1,
           0.1,
           0.1,
           0.1,
           0.1,
           0.1,
           0.1,
           0.1,
           0.1,
           0.1,
           0.1,
           0.1,
           0.1,
           0.1,
           0.1,
           0.1,
           0.1,
           0.1,
           0.1,
           0.1,
           0.1,
           0.1,
           0.1,
           0.1,
           0.1,
           0.1,
           0.1,
           0.1,
           0.1,
           0.1,
           0.1,
           0.1,
           0.1,
           0.1,
           0.1,
           0.1,
           0.1,
           0.1,
           0.1,
           0.1,
           0.1,
           0.1,
           0.1,
           0.1,
           0.1
          ],
          "sizemode": "area",
          "sizeref": 0.00025,
          "symbol": "circle"
         },
         "mode": "markers",
         "name": "",
         "scene": "scene",
         "showlegend": false,
         "type": "scatter3d",
         "x": [
          -5.905935764312744,
          -6.511087417602539,
          -6.486550807952881,
          -5.744204998016357,
          -5.617545127868652,
          -5.796998023986816,
          -6.7137346267700195,
          -5.352937698364258,
          -6.694838047027588,
          -6.225816249847412,
          -6.312180042266846,
          -6.735228538513184,
          -6.736276626586914,
          -6.786867141723633,
          -5.609227180480957,
          -5.605666637420654,
          -5.621519565582275,
          -5.812962055206299,
          -5.587371826171875,
          -5.823349475860596,
          -5.625274658203125,
          -6.232344627380371,
          -6.085940361022949,
          -5.89715576171875,
          -6.0798020362854,
          -6.5115838050842285,
          -5.672142505645752,
          -6.592952728271484,
          -6.399777889251709,
          -6.123848915100098,
          -6.521651744842529,
          -5.355668544769287,
          -5.893954753875732,
          -6.034569263458252,
          -5.772403717041016,
          -6.26158332824707,
          -6.43516731262207,
          -5.652763843536377,
          -5.911238670349121,
          -5.868463039398193,
          -5.748871326446533,
          -5.6580047607421875,
          -6.0484466552734375,
          -5.602277755737305,
          -6.252544403076172,
          -6.263672351837158,
          -6.5201826095581055,
          -6.066830635070801,
          -6.505503177642822,
          -6.680173873901367,
          -5.696208477020264,
          -5.507393836975098,
          -5.915255069732666,
          -6.2851972579956055,
          -5.963742733001709,
          -5.906686305999756,
          -5.766385078430176,
          11.234467506408691,
          11.079582214355469,
          11.634045600891113,
          11.00061321258545,
          11.34386157989502,
          10.963746070861816,
          11.27466869354248,
          11.82182788848877,
          11.258895874023438,
          11.953727722167969,
          11.442237854003906,
          11.869158744812012,
          10.945375442504883,
          11.700611114501953,
          11.379926681518555,
          11.892745018005371,
          11.457596778869629,
          11.271906852722168,
          11.39548397064209,
          11.527216911315918,
          11.038440704345703,
          11.003592491149902,
          11.297148704528809,
          11.53792953491211,
          11.496607780456543,
          11.726664543151855,
          11.749519348144531,
          11.901806831359863,
          11.680411338806152,
          11.888937950134277,
          11.38408088684082,
          11.013936996459961,
          12.201717376708984,
          11.332206726074219,
          11.037578582763672,
          11.2152738571167,
          11.6119384765625,
          11.825004577636719,
          11.695832252502441,
          12.12475299835205,
          11.955859184265137,
          12.020238876342773,
          11.988412857055664,
          12.003349304199219,
          11.850214958190918,
          11.004380226135254,
          11.855501174926758,
          11.32095718383789,
          11.6314115524292,
          11.842239379882812,
          12.106668472290039,
          11.83806037902832,
          11.335268020629883,
          12.13612174987793,
          11.31613540649414,
          11.529211044311523,
          11.366525650024414,
          12.023131370544434,
          11.844389915466309,
          12.018068313598633,
          11.742935180664062,
          12.09453010559082,
          11.961308479309082,
          12.071002006530762,
          12.020578384399414,
          11.03722858428955,
          11.051559448242188,
          11.532708168029785,
          11.189591407775879,
          11.770787239074707,
          11.783113479614258,
          11.622359275817871,
          11.618942260742188,
          11.257347106933594,
          11.881194114685059,
          11.715524673461914,
          11.394715309143066,
          11.2962646484375,
          11.593245506286621,
          12.095943450927734,
          12.365281105041504,
          12.495418548583984,
          11.503769874572754,
          11.085165977478027,
          11.3765869140625,
          11.386062622070312,
          11.85816478729248,
          11.259369850158691,
          11.774016380310059,
          11.761533737182617,
          11.760849952697754,
          11.422795295715332,
          11.169761657714844,
          12.151500701904297,
          11.232752799987793,
          12.318682670593262,
          12.320395469665527,
          11.523796081542969,
          11.122506141662598,
          11.46321964263916,
          11.921411514282227,
          11.901570320129395,
          11.813828468322754,
          11.876083374023438
         ],
         "y": [
          -0.8774998188018799,
          0.010956909507513046,
          -1.240182876586914,
          -1.4202625751495361,
          -0.5932276844978333,
          -1.4635628461837769,
          -0.41392678022384644,
          -0.7557080388069153,
          -0.3612405061721802,
          -0.7167038321495056,
          -1.2616956233978271,
          -0.25789785385131836,
          -0.45767131447792053,
          -0.6388829350471497,
          -1.038795828819275,
          -1.1933890581130981,
          -1.2158873081207275,
          -1.4731513261795044,
          -0.44701850414276123,
          -0.748237133026123,
          -0.1246614158153534,
          -0.2507520616054535,
          -0.159357950091362,
          -0.28694474697113037,
          -0.5182092189788818,
          -0.006845897529274225,
          -0.5046190023422241,
          -0.2726282775402069,
          -1.301514983177185,
          -1.4939171075820923,
          -0.3253573179244995,
          -1.0554028749465942,
          -0.5541964173316956,
          -0.330812931060791,
          -0.4632711410522461,
          -0.210183247923851,
          -0.0034598722122609615,
          -0.6041266918182373,
          -0.7349132895469666,
          0.06085073575377464,
          -0.990993857383728,
          -0.017288751900196075,
          -0.299852579832077,
          -0.17108653485774994,
          -0.3937160074710846,
          -0.5749727487564087,
          -1.092413306236267,
          -1.4002810716629028,
          -0.5589221119880676,
          -0.855824887752533,
          -1.3642339706420898,
          -1.0151962041854858,
          -0.626227855682373,
          -1.4453665018081665,
          -0.9029095768928528,
          -0.849169909954071,
          -1.4118419885635376,
          7.7926716804504395,
          7.675714492797852,
          6.9054670333862305,
          7.435063362121582,
          8.294137954711914,
          7.913143634796143,
          7.245461463928223,
          7.228320121765137,
          7.761890888214111,
          8.125897407531738,
          7.763185024261475,
          7.806680679321289,
          7.85209846496582,
          6.968672275543213,
          6.8916754722595215,
          7.809803485870361,
          8.299367904663086,
          7.189243793487549,
          7.551573753356934,
          8.53181266784668,
          8.257436752319336,
          8.098124504089355,
          7.295281887054443,
          8.498067855834961,
          8.614870071411133,
          8.631037712097168,
          8.598058700561523,
          8.537099838256836,
          8.641642570495605,
          8.738299369812012,
          7.864572048187256,
          7.596423149108887,
          7.275503635406494,
          7.090876579284668,
          7.574763774871826,
          7.827324867248535,
          6.91658353805542,
          7.074495792388916,
          8.496319770812988,
          7.5627851486206055,
          7.316575050354004,
          8.878146171569824,
          7.488352298736572,
          8.628483772277832,
          7.769453525543213,
          8.269796371459961,
          8.090587615966797,
          8.38505744934082,
          8.464882850646973,
          8.598796844482422,
          7.474050045013428,
          7.898761749267578,
          7.819643974304199,
          7.752004146575928,
          8.307555198669434,
          8.51498031616211,
          8.344717025756836,
          8.338921546936035,
          8.421682357788086,
          8.264666557312012,
          8.541510581970215,
          7.333003044128418,
          7.304661273956299,
          7.417263507843018,
          7.377106189727783,
          7.658605098724365,
          7.6727375984191895,
          8.125299453735352,
          8.023005485534668,
          8.466548919677734,
          8.293192863464355,
          7.747801303863525,
          8.39175796508789,
          8.2167329788208,
          7.160505771636963,
          7.605478763580322,
          7.898582458496094,
          7.917026042938232,
          7.476985454559326,
          7.104622840881348,
          7.1310133934021,
          7.223846435546875,
          7.2151875495910645,
          7.461340427398682,
          7.852570056915283,
          7.483860015869141,
          8.38912582397461,
          7.6214470863342285,
          8.314470291137695,
          8.473243713378906,
          7.562483787536621,
          7.315600395202637,
          8.012312889099121,
          7.282593727111816,
          7.318708896636963,
          7.359907627105713,
          7.3597025871276855,
          7.6659255027771,
          7.377969741821289,
          7.161952495574951,
          7.588185787200928,
          6.94307804107666,
          6.993365287780762,
          7.574832439422607
         ],
         "z": [
          1.4121757745742798,
          0.3135226368904114,
          0.045227404683828354,
          0.7119145393371582,
          -0.517791748046875,
          0.4180394113063812,
          0.3553222417831421,
          -0.2722404897212982,
          0.6493249535560608,
          0.8733883500099182,
          0.5241617560386658,
          0.06681942939758301,
          0.1113300547003746,
          0.5426644682884216,
          -0.4788804352283478,
          -0.48494628071784973,
          -0.534459114074707,
          0.2941068112850189,
          0.9048468470573425,
          1.3974002599716187,
          0.4184805154800415,
          0.30697980523109436,
          -0.12382571399211884,
          -0.10853148996829987,
          -0.16675306856632233,
          0.05109214782714844,
          -0.593910813331604,
          0.5735851526260376,
          0.09734537452459335,
          0.3812350630760193,
          -0.120320625603199,
          -0.5201337933540344,
          -0.4111654758453369,
          0.13301752507686615,
          -0.5223289132118225,
          -0.4315585196018219,
          0.023647412657737732,
          1.2612591981887817,
          1.3626447916030884,
          0.49487441778182983,
          0.7308000326156616,
          0.5999143123626709,
          1.1177196502685547,
          0.6345182061195374,
          0.9363064765930176,
          1.1385104656219482,
          0.2762673497200012,
          0.6363905072212219,
          0.9914699196815491,
          0.19526998698711395,
          0.8437657952308655,
          -0.3793140649795532,
          1.0108307600021362,
          0.3149269223213196,
          1.2847882509231567,
          -0.3304637670516968,
          0.7031260132789612,
          4.748837947845459,
          5.5123515129089355,
          1.2540225982666016,
          1.068142294883728,
          3.1000444889068604,
          1.8339526653289795,
          0.8623774647712708,
          1.0397696495056152,
          5.013789176940918,
          3.4533350467681885,
          1.4514950513839722,
          1.575632095336914,
          1.062291145324707,
          1.5466381311416626,
          1.010184645652771,
          3.346848726272583,
          1.5814968347549438,
          1.0119179487228394,
          1.2954034805297852,
          2.817495584487915,
          6.621011257171631,
          1.4916917085647583,
          1.4649605751037598,
          3.0306997299194336,
          2.7287516593933105,
          2.744688034057617,
          2.5250375270843506,
          2.998629093170166,
          3.0623779296875,
          3.2811453342437744,
          1.1996086835861206,
          0.9012535810470581,
          5.534381866455078,
          1.0770076513290405,
          0.9039130210876465,
          1.420204520225525,
          1.2037513256072998,
          1.310814380645752,
          1.6164617538452148,
          1.3087304830551147,
          1.1834968328475952,
          3.100616931915283,
          1.4252434968948364,
          3.146465539932251,
          1.204054594039917,
          1.6526446342468262,
          1.366075038909912,
          3.096158981323242,
          2.604121685028076,
          2.130747079849243,
          1.2280548810958862,
          1.961843490600586,
          6.061142444610596,
          1.3660115003585815,
          1.4190441370010376,
          1.8859213590621948,
          1.3594167232513428,
          1.628392219543457,
          1.4640734195709229,
          1.9932161569595337,
          1.9341259002685547,
          5.849959373474121,
          6.008974075317383,
          6.227996349334717,
          6.1409101486206055,
          5.739348411560059,
          6.010664463043213,
          6.706766128540039,
          6.452487468719482,
          6.343321323394775,
          6.395404815673828,
          6.273396015167236,
          6.219882488250732,
          6.625823020935059,
          6.498783111572266,
          6.275892734527588,
          6.883567810058594,
          7.1633100509643555,
          7.152364730834961,
          6.697684288024902,
          6.809920787811279,
          6.814702033996582,
          7.128362655639648,
          6.150217533111572,
          7.28971004486084,
          7.398947715759277,
          6.574597358703613,
          7.066694736480713,
          6.311743259429932,
          6.3606648445129395,
          6.203366756439209,
          7.196556568145752,
          7.059034824371338,
          7.179372310638428,
          7.0115532875061035,
          7.1512579917907715,
          7.145411968231201,
          6.027923107147217,
          6.876789569854736,
          7.3130106925964355,
          7.180154800415039,
          6.964051246643066,
          6.951475620269775,
          7.385019302368164
         ]
        }
       ],
       "layout": {
        "coloraxis": {
         "colorbar": {
          "title": {
           "text": "color"
          }
         },
         "colorscale": [
          [
           0,
           "#0d0887"
          ],
          [
           0.1111111111111111,
           "#46039f"
          ],
          [
           0.2222222222222222,
           "#7201a8"
          ],
          [
           0.3333333333333333,
           "#9c179e"
          ],
          [
           0.4444444444444444,
           "#bd3786"
          ],
          [
           0.5555555555555556,
           "#d8576b"
          ],
          [
           0.6666666666666666,
           "#ed7953"
          ],
          [
           0.7777777777777778,
           "#fb9f3a"
          ],
          [
           0.8888888888888888,
           "#fdca26"
          ],
          [
           1,
           "#f0f921"
          ]
         ]
        },
        "height": 500,
        "legend": {
         "itemsizing": "constant",
         "tracegroupgap": 0
        },
        "scene": {
         "domain": {
          "x": [
           0,
           1
          ],
          "y": [
           0,
           1
          ]
         },
         "xaxis": {
          "title": {
           "text": "comp. 1"
          }
         },
         "yaxis": {
          "title": {
           "text": "comp. 2"
          }
         },
         "zaxis": {
          "title": {
           "text": "comp. 3"
          }
         }
        },
        "template": {
         "data": {
          "bar": [
           {
            "error_x": {
             "color": "#2a3f5f"
            },
            "error_y": {
             "color": "#2a3f5f"
            },
            "marker": {
             "line": {
              "color": "#E5ECF6",
              "width": 0.5
             },
             "pattern": {
              "fillmode": "overlay",
              "size": 10,
              "solidity": 0.2
             }
            },
            "type": "bar"
           }
          ],
          "barpolar": [
           {
            "marker": {
             "line": {
              "color": "#E5ECF6",
              "width": 0.5
             },
             "pattern": {
              "fillmode": "overlay",
              "size": 10,
              "solidity": 0.2
             }
            },
            "type": "barpolar"
           }
          ],
          "carpet": [
           {
            "aaxis": {
             "endlinecolor": "#2a3f5f",
             "gridcolor": "white",
             "linecolor": "white",
             "minorgridcolor": "white",
             "startlinecolor": "#2a3f5f"
            },
            "baxis": {
             "endlinecolor": "#2a3f5f",
             "gridcolor": "white",
             "linecolor": "white",
             "minorgridcolor": "white",
             "startlinecolor": "#2a3f5f"
            },
            "type": "carpet"
           }
          ],
          "choropleth": [
           {
            "colorbar": {
             "outlinewidth": 0,
             "ticks": ""
            },
            "type": "choropleth"
           }
          ],
          "contour": [
           {
            "colorbar": {
             "outlinewidth": 0,
             "ticks": ""
            },
            "colorscale": [
             [
              0,
              "#0d0887"
             ],
             [
              0.1111111111111111,
              "#46039f"
             ],
             [
              0.2222222222222222,
              "#7201a8"
             ],
             [
              0.3333333333333333,
              "#9c179e"
             ],
             [
              0.4444444444444444,
              "#bd3786"
             ],
             [
              0.5555555555555556,
              "#d8576b"
             ],
             [
              0.6666666666666666,
              "#ed7953"
             ],
             [
              0.7777777777777778,
              "#fb9f3a"
             ],
             [
              0.8888888888888888,
              "#fdca26"
             ],
             [
              1,
              "#f0f921"
             ]
            ],
            "type": "contour"
           }
          ],
          "contourcarpet": [
           {
            "colorbar": {
             "outlinewidth": 0,
             "ticks": ""
            },
            "type": "contourcarpet"
           }
          ],
          "heatmap": [
           {
            "colorbar": {
             "outlinewidth": 0,
             "ticks": ""
            },
            "colorscale": [
             [
              0,
              "#0d0887"
             ],
             [
              0.1111111111111111,
              "#46039f"
             ],
             [
              0.2222222222222222,
              "#7201a8"
             ],
             [
              0.3333333333333333,
              "#9c179e"
             ],
             [
              0.4444444444444444,
              "#bd3786"
             ],
             [
              0.5555555555555556,
              "#d8576b"
             ],
             [
              0.6666666666666666,
              "#ed7953"
             ],
             [
              0.7777777777777778,
              "#fb9f3a"
             ],
             [
              0.8888888888888888,
              "#fdca26"
             ],
             [
              1,
              "#f0f921"
             ]
            ],
            "type": "heatmap"
           }
          ],
          "heatmapgl": [
           {
            "colorbar": {
             "outlinewidth": 0,
             "ticks": ""
            },
            "colorscale": [
             [
              0,
              "#0d0887"
             ],
             [
              0.1111111111111111,
              "#46039f"
             ],
             [
              0.2222222222222222,
              "#7201a8"
             ],
             [
              0.3333333333333333,
              "#9c179e"
             ],
             [
              0.4444444444444444,
              "#bd3786"
             ],
             [
              0.5555555555555556,
              "#d8576b"
             ],
             [
              0.6666666666666666,
              "#ed7953"
             ],
             [
              0.7777777777777778,
              "#fb9f3a"
             ],
             [
              0.8888888888888888,
              "#fdca26"
             ],
             [
              1,
              "#f0f921"
             ]
            ],
            "type": "heatmapgl"
           }
          ],
          "histogram": [
           {
            "marker": {
             "pattern": {
              "fillmode": "overlay",
              "size": 10,
              "solidity": 0.2
             }
            },
            "type": "histogram"
           }
          ],
          "histogram2d": [
           {
            "colorbar": {
             "outlinewidth": 0,
             "ticks": ""
            },
            "colorscale": [
             [
              0,
              "#0d0887"
             ],
             [
              0.1111111111111111,
              "#46039f"
             ],
             [
              0.2222222222222222,
              "#7201a8"
             ],
             [
              0.3333333333333333,
              "#9c179e"
             ],
             [
              0.4444444444444444,
              "#bd3786"
             ],
             [
              0.5555555555555556,
              "#d8576b"
             ],
             [
              0.6666666666666666,
              "#ed7953"
             ],
             [
              0.7777777777777778,
              "#fb9f3a"
             ],
             [
              0.8888888888888888,
              "#fdca26"
             ],
             [
              1,
              "#f0f921"
             ]
            ],
            "type": "histogram2d"
           }
          ],
          "histogram2dcontour": [
           {
            "colorbar": {
             "outlinewidth": 0,
             "ticks": ""
            },
            "colorscale": [
             [
              0,
              "#0d0887"
             ],
             [
              0.1111111111111111,
              "#46039f"
             ],
             [
              0.2222222222222222,
              "#7201a8"
             ],
             [
              0.3333333333333333,
              "#9c179e"
             ],
             [
              0.4444444444444444,
              "#bd3786"
             ],
             [
              0.5555555555555556,
              "#d8576b"
             ],
             [
              0.6666666666666666,
              "#ed7953"
             ],
             [
              0.7777777777777778,
              "#fb9f3a"
             ],
             [
              0.8888888888888888,
              "#fdca26"
             ],
             [
              1,
              "#f0f921"
             ]
            ],
            "type": "histogram2dcontour"
           }
          ],
          "mesh3d": [
           {
            "colorbar": {
             "outlinewidth": 0,
             "ticks": ""
            },
            "type": "mesh3d"
           }
          ],
          "parcoords": [
           {
            "line": {
             "colorbar": {
              "outlinewidth": 0,
              "ticks": ""
             }
            },
            "type": "parcoords"
           }
          ],
          "pie": [
           {
            "automargin": true,
            "type": "pie"
           }
          ],
          "scatter": [
           {
            "fillpattern": {
             "fillmode": "overlay",
             "size": 10,
             "solidity": 0.2
            },
            "type": "scatter"
           }
          ],
          "scatter3d": [
           {
            "line": {
             "colorbar": {
              "outlinewidth": 0,
              "ticks": ""
             }
            },
            "marker": {
             "colorbar": {
              "outlinewidth": 0,
              "ticks": ""
             }
            },
            "type": "scatter3d"
           }
          ],
          "scattercarpet": [
           {
            "marker": {
             "colorbar": {
              "outlinewidth": 0,
              "ticks": ""
             }
            },
            "type": "scattercarpet"
           }
          ],
          "scattergeo": [
           {
            "marker": {
             "colorbar": {
              "outlinewidth": 0,
              "ticks": ""
             }
            },
            "type": "scattergeo"
           }
          ],
          "scattergl": [
           {
            "marker": {
             "colorbar": {
              "outlinewidth": 0,
              "ticks": ""
             }
            },
            "type": "scattergl"
           }
          ],
          "scattermapbox": [
           {
            "marker": {
             "colorbar": {
              "outlinewidth": 0,
              "ticks": ""
             }
            },
            "type": "scattermapbox"
           }
          ],
          "scatterpolar": [
           {
            "marker": {
             "colorbar": {
              "outlinewidth": 0,
              "ticks": ""
             }
            },
            "type": "scatterpolar"
           }
          ],
          "scatterpolargl": [
           {
            "marker": {
             "colorbar": {
              "outlinewidth": 0,
              "ticks": ""
             }
            },
            "type": "scatterpolargl"
           }
          ],
          "scatterternary": [
           {
            "marker": {
             "colorbar": {
              "outlinewidth": 0,
              "ticks": ""
             }
            },
            "type": "scatterternary"
           }
          ],
          "surface": [
           {
            "colorbar": {
             "outlinewidth": 0,
             "ticks": ""
            },
            "colorscale": [
             [
              0,
              "#0d0887"
             ],
             [
              0.1111111111111111,
              "#46039f"
             ],
             [
              0.2222222222222222,
              "#7201a8"
             ],
             [
              0.3333333333333333,
              "#9c179e"
             ],
             [
              0.4444444444444444,
              "#bd3786"
             ],
             [
              0.5555555555555556,
              "#d8576b"
             ],
             [
              0.6666666666666666,
              "#ed7953"
             ],
             [
              0.7777777777777778,
              "#fb9f3a"
             ],
             [
              0.8888888888888888,
              "#fdca26"
             ],
             [
              1,
              "#f0f921"
             ]
            ],
            "type": "surface"
           }
          ],
          "table": [
           {
            "cells": {
             "fill": {
              "color": "#EBF0F8"
             },
             "line": {
              "color": "white"
             }
            },
            "header": {
             "fill": {
              "color": "#C8D4E3"
             },
             "line": {
              "color": "white"
             }
            },
            "type": "table"
           }
          ]
         },
         "layout": {
          "annotationdefaults": {
           "arrowcolor": "#2a3f5f",
           "arrowhead": 0,
           "arrowwidth": 1
          },
          "autotypenumbers": "strict",
          "coloraxis": {
           "colorbar": {
            "outlinewidth": 0,
            "ticks": ""
           }
          },
          "colorscale": {
           "diverging": [
            [
             0,
             "#8e0152"
            ],
            [
             0.1,
             "#c51b7d"
            ],
            [
             0.2,
             "#de77ae"
            ],
            [
             0.3,
             "#f1b6da"
            ],
            [
             0.4,
             "#fde0ef"
            ],
            [
             0.5,
             "#f7f7f7"
            ],
            [
             0.6,
             "#e6f5d0"
            ],
            [
             0.7,
             "#b8e186"
            ],
            [
             0.8,
             "#7fbc41"
            ],
            [
             0.9,
             "#4d9221"
            ],
            [
             1,
             "#276419"
            ]
           ],
           "sequential": [
            [
             0,
             "#0d0887"
            ],
            [
             0.1111111111111111,
             "#46039f"
            ],
            [
             0.2222222222222222,
             "#7201a8"
            ],
            [
             0.3333333333333333,
             "#9c179e"
            ],
            [
             0.4444444444444444,
             "#bd3786"
            ],
            [
             0.5555555555555556,
             "#d8576b"
            ],
            [
             0.6666666666666666,
             "#ed7953"
            ],
            [
             0.7777777777777778,
             "#fb9f3a"
            ],
            [
             0.8888888888888888,
             "#fdca26"
            ],
            [
             1,
             "#f0f921"
            ]
           ],
           "sequentialminus": [
            [
             0,
             "#0d0887"
            ],
            [
             0.1111111111111111,
             "#46039f"
            ],
            [
             0.2222222222222222,
             "#7201a8"
            ],
            [
             0.3333333333333333,
             "#9c179e"
            ],
            [
             0.4444444444444444,
             "#bd3786"
            ],
            [
             0.5555555555555556,
             "#d8576b"
            ],
            [
             0.6666666666666666,
             "#ed7953"
            ],
            [
             0.7777777777777778,
             "#fb9f3a"
            ],
            [
             0.8888888888888888,
             "#fdca26"
            ],
            [
             1,
             "#f0f921"
            ]
           ]
          },
          "colorway": [
           "#636efa",
           "#EF553B",
           "#00cc96",
           "#ab63fa",
           "#FFA15A",
           "#19d3f3",
           "#FF6692",
           "#B6E880",
           "#FF97FF",
           "#FECB52"
          ],
          "font": {
           "color": "#2a3f5f"
          },
          "geo": {
           "bgcolor": "white",
           "lakecolor": "white",
           "landcolor": "#E5ECF6",
           "showlakes": true,
           "showland": true,
           "subunitcolor": "white"
          },
          "hoverlabel": {
           "align": "left"
          },
          "hovermode": "closest",
          "mapbox": {
           "style": "light"
          },
          "paper_bgcolor": "white",
          "plot_bgcolor": "#E5ECF6",
          "polar": {
           "angularaxis": {
            "gridcolor": "white",
            "linecolor": "white",
            "ticks": ""
           },
           "bgcolor": "#E5ECF6",
           "radialaxis": {
            "gridcolor": "white",
            "linecolor": "white",
            "ticks": ""
           }
          },
          "scene": {
           "xaxis": {
            "backgroundcolor": "#E5ECF6",
            "gridcolor": "white",
            "gridwidth": 2,
            "linecolor": "white",
            "showbackground": true,
            "ticks": "",
            "zerolinecolor": "white"
           },
           "yaxis": {
            "backgroundcolor": "#E5ECF6",
            "gridcolor": "white",
            "gridwidth": 2,
            "linecolor": "white",
            "showbackground": true,
            "ticks": "",
            "zerolinecolor": "white"
           },
           "zaxis": {
            "backgroundcolor": "#E5ECF6",
            "gridcolor": "white",
            "gridwidth": 2,
            "linecolor": "white",
            "showbackground": true,
            "ticks": "",
            "zerolinecolor": "white"
           }
          },
          "shapedefaults": {
           "line": {
            "color": "#2a3f5f"
           }
          },
          "ternary": {
           "aaxis": {
            "gridcolor": "white",
            "linecolor": "white",
            "ticks": ""
           },
           "baxis": {
            "gridcolor": "white",
            "linecolor": "white",
            "ticks": ""
           },
           "bgcolor": "#E5ECF6",
           "caxis": {
            "gridcolor": "white",
            "linecolor": "white",
            "ticks": ""
           }
          },
          "title": {
           "x": 0.05
          },
          "xaxis": {
           "automargin": true,
           "gridcolor": "white",
           "linecolor": "white",
           "ticks": "",
           "title": {
            "standoff": 15
           },
           "zerolinecolor": "white",
           "zerolinewidth": 2
          },
          "yaxis": {
           "automargin": true,
           "gridcolor": "white",
           "linecolor": "white",
           "ticks": "",
           "title": {
            "standoff": 15
           },
           "zerolinecolor": "white",
           "zerolinewidth": 2
          }
         }
        },
        "title": {
         "text": "UMAP plot in 3D"
        },
        "width": 650
       }
      }
     },
     "metadata": {},
     "output_type": "display_data"
    }
   ],
   "source": [
    "# UMAP\n",
    "um = umap.UMAP(n_components=3)\n",
    "components_umap = um.fit_transform(data_normalized_umap)\n",
    "\n",
    "# 3D scatterplot\n",
    "fig = px.scatter_3d(\n",
    "    components_umap, x=0, y=1, z=2, color=clusters, size=0.1*np.ones(len(data_normalized_umap)), opacity = 1,\n",
    "    title='UMAP plot in 3D',\n",
    "    labels={'0': 'comp. 1', '1': 'comp. 2', '2': 'comp. 3'},\n",
    "    width=650, height=500\n",
    ")\n",
    "fig.show()"
   ]
  },
  {
   "cell_type": "code",
   "execution_count": 23,
   "metadata": {},
   "outputs": [
    {
     "data": {
      "text/plain": [
       "<AxesSubplot: >"
      ]
     },
     "execution_count": 23,
     "metadata": {},
     "output_type": "execute_result"
    },
    {
     "data": {
      "image/png": "[encoded data removed]",
      "text/plain": [
       "<Figure size 800x800 with 1 Axes>"
      ]
     },
     "metadata": {},
     "output_type": "display_data"
    }
   ],
   "source": [
    "# Connectivity plot\n",
    "umap.plot.connectivity(X_fit, show_points=True)"
   ]
  },
  {
   "cell_type": "code",
   "execution_count": 25,
   "metadata": {},
   "outputs": [
    {
     "data": {
      "text/plain": [
       "<AxesSubplot: >"
      ]
     },
     "execution_count": 25,
     "metadata": {},
     "output_type": "execute_result"
    },
    {
     "data": {
      "image/png": "[encoded data removed]",
      "text/plain": [
       "<Figure size 800x800 with 1 Axes>"
      ]
     },
     "metadata": {},
     "output_type": "display_data"
    }
   ],
   "source": [
    "# Bundling can provide a simplified view of the connections\n",
    "umap.plot.connectivity(X_fit, show_points=True, edge_bundling='hammer')"
   ]
  },
  {
   "cell_type": "markdown",
   "metadata": {},
   "source": [
    "# Mapper"
   ]
  },
  {
   "cell_type": "code",
   "execution_count": 34,
   "metadata": {},
   "outputs": [],
   "source": [
    "data_mapper = data.to_numpy()\n",
    "data_normalized_mapper= scaler.fit_transform(data_mapper)"
   ]
  },
  {
   "cell_type": "code",
   "execution_count": null,
   "metadata": {},
   "outputs": [],
   "source": [
    "data.head()"
   ]
  },
  {
   "cell_type": "code",
   "execution_count": 37,
   "metadata": {},
   "outputs": [
    {
     "name": "stdout",
     "output_type": "stream",
     "text": [
      "KeplerMapper(verbose=1)\n",
      "..Composing projection pipeline of length 1:\n",
      "\tProjections: [0, 1, 2, 3, 4, 5, 6, 7, 8, 9, 10, 11, 12]\n",
      "\tDistance matrices: False\n",
      "\tScalers: None\n",
      "..Projecting on data shaped (178, 13)\n",
      "\n",
      "..Projecting data using: [0, 1, 2, 3, 4, 5, 6, 7, 8, 9, 10, 11, 12]\n",
      "Mapping on data shaped (178, 13) using lens shaped (178, 13)\n",
      "\n"
     ]
    }
   ],
   "source": [
    "mapper = km.KeplerMapper(verbose=1)\n",
    "# La proyección sobre el math score, corresponde a proyectar sobre la primera columna de data\n",
    "projected_data = mapper.fit_transform(data_normalized_mapper, projection=[0,1,2,3,4,5,6,7,8,9,10,11,12], scaler=None) \n",
    "\n",
    "covering=km.Cover(n_cubes=10,perc_overlap=0.08)\n",
    "\n",
    "import warnings\n",
    "\n",
    "# Ignorar todas las advertencias\n",
    "warnings.filterwarnings('ignore')\n",
    "\n",
    "G = mapper.map(projected_data, data, clusterer=sklearn.cluster.KMeans(n_clusters=3),cover=covering)\n",
    "\n",
    "mapper.visualize(G, \n",
    "                path_html=\"mapper_visualization_output.html\",\n",
    "                 title=\"Mapper on Wine Data\",\n",
    "                #custom_tooltips = performance_data['gender'].to_numpy(),\n",
    "                #color_values = mean,\n",
    "                #color_function_name = 'Mean of Reading and Writing Score',\n",
    "                node_color_function=np.array(['average','std','sum','max','min']))\n",
    "\n",
    "#display(HTML('performance_math_score.html'))"
   ]
  }
 ],
 "metadata": {
  "kernelspec": {
   "display_name": "Python 3",
   "language": "python",
   "name": "python3"
  },
  "language_info": {
   "codemirror_mode": {
    "name": "ipython",
    "version": 3
   },
   "file_extension": ".py",
   "mimetype": "text/x-python",
   "name": "python",
   "nbconvert_exporter": "python",
   "pygments_lexer": "ipython3",
   "version": "3.11.0"
  }
 },
 "nbformat": 4,
 "nbformat_minor": 2
}
